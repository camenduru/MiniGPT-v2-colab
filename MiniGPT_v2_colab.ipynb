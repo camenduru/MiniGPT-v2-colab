{
  "cells": [
    {
      "cell_type": "markdown",
      "metadata": {
        "id": "view-in-github"
      },
      "source": [
        "[![Open In Colab](https://colab.research.google.com/assets/colab-badge.svg)](https://colab.research.google.com/github/camenduru/MiniGPT-v2-colab/blob/main/MiniGPT_v2_colab.ipynb)"
      ]
    },
    {
      "cell_type": "code",
      "execution_count": null,
      "metadata": {
        "id": "VjYy0F2gZIPR"
      },
      "outputs": [],
      "source": [
        "%cd /content\n",
        "!git clone -b dev2 https://github.com/camenduru/MiniGPT-4\n",
        "!wget https://huggingface.co/camenduru/MiniGPT-v2/resolve/main/minigptv2_checkpoint.pth -O /content/MiniGPT-4/minigptv2_checkpoint.pth\n",
        "!pip install -q salesforce-lavis bitsandbytes accelerate transformers==4.30.0 peft==0.2.0 huggingface_hub gradio gradio-client\n",
        "%cd /content/MiniGPT-4\n",
        "!python demo_v2.py"
      ]
    }
  ],
  "metadata": {
    "accelerator": "GPU",
    "colab": {
      "gpuType": "T4",
      "provenance": []
    },
    "kernelspec": {
      "display_name": "Python 3",
      "name": "python3"
    },
    "language_info": {
      "name": "python"
    }
  },
  "nbformat": 4,
  "nbformat_minor": 0
}
